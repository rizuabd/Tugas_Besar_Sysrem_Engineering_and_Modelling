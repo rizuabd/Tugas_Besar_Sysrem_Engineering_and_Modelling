{
  "cells": [
    {
      "cell_type": "markdown",
      "metadata": {},
      "source": [
        "## Untuk melakukan training, sesuaikan path model, dataset, dan destinasi output model."
      ]
    },
    {
      "cell_type": "markdown",
      "metadata": {
        "id": "lFEY4hkThYI3"
      },
      "source": [
        "#**Importing the Required Libraries**"
      ]
    },
    {
      "cell_type": "code",
      "execution_count": null,
      "metadata": {
        "id": "s-a3GfdZhY0t"
      },
      "outputs": [],
      "source": [
        "import os\n"
      ]
    },
    {
      "cell_type": "code",
      "execution_count": null,
      "metadata": {
        "id": "nUOE-xPSrNS-"
      },
      "outputs": [],
      "source": [
        "import glob"
      ]
    },
    {
      "cell_type": "code",
      "execution_count": null,
      "metadata": {
        "id": "wVtKZErHrRK6"
      },
      "outputs": [],
      "source": [
        "from IPython.display import Image, display"
      ]
    },
    {
      "cell_type": "code",
      "execution_count": null,
      "metadata": {
        "id": "V_iw7KpMi-P9"
      },
      "outputs": [],
      "source": [
        "from IPython import display"
      ]
    },
    {
      "cell_type": "code",
      "execution_count": null,
      "metadata": {
        "id": "kUSVO1Gxi_OZ"
      },
      "outputs": [],
      "source": [
        "display.clear_output()"
      ]
    },
    {
      "cell_type": "markdown",
      "metadata": {
        "id": "FdgrpCXehuFH"
      },
      "source": [
        "#**Installing Ultralytics using Pip Install**"
      ]
    },
    {
      "cell_type": "code",
      "execution_count": null,
      "metadata": {
        "colab": {
          "base_uri": "https://localhost:8080/"
        },
        "id": "zX_KHEfold1G",
        "outputId": "a05e1e17-5609-401e-a9e5-a10982d91713"
      },
      "outputs": [],
      "source": [
        "!pip install ultralytics"
      ]
    },
    {
      "cell_type": "markdown",
      "metadata": {
        "id": "d69BqnLhivMS"
      },
      "source": [
        "##Checking whether YOLO is Installed and its working Fine"
      ]
    },
    {
      "cell_type": "code",
      "execution_count": null,
      "metadata": {
        "id": "WBdEq_9WinBg"
      },
      "outputs": [],
      "source": [
        "import ultralytics"
      ]
    },
    {
      "cell_type": "code",
      "execution_count": null,
      "metadata": {
        "colab": {
          "base_uri": "https://localhost:8080/"
        },
        "id": "EWrOSmH6i2mW",
        "outputId": "35968404-3d79-4c86-e6fb-a56e58a8d33b"
      },
      "outputs": [],
      "source": [
        "ultralytics.checks()"
      ]
    },
    {
      "cell_type": "markdown",
      "metadata": {
        "id": "YiBK9s1dRmfc"
      },
      "source": [
        "## Mount Google Drive\n"
      ]
    },
    {
      "cell_type": "code",
      "execution_count": null,
      "metadata": {
        "colab": {
          "base_uri": "https://localhost:8080/"
        },
        "id": "JsnRNuymQ7aY",
        "outputId": "726e0745-4652-4478-ae60-410c73204f4b"
      },
      "outputs": [
        {
          "name": "stdout",
          "output_type": "stream",
          "text": [
            "Mounted at /content/gdrive\n"
          ]
        }
      ],
      "source": [
        "# Mount Google Drive\n",
        "from google.colab import drive\n",
        "drive.mount('/content/gdrive')\n",
        "\n"
      ]
    },
    {
      "cell_type": "code",
      "execution_count": null,
      "metadata": {
        "id": "FSCcci01RpL8"
      },
      "outputs": [],
      "source": [
        "# Access Google Drive Folder\n",
        "import os\n",
        "os.chdir(\"/content/gdrive/MyDrive/Tugas_Besar_SEM\")"
      ]
    },
    {
      "cell_type": "code",
      "execution_count": null,
      "metadata": {
        "colab": {
          "base_uri": "https://localhost:8080/"
        },
        "id": "TEjB1wVIFYY0",
        "outputId": "c76f7292-949b-4c6e-bc02-b2872073bb58"
      },
      "outputs": [],
      "source": [
        "Home = os.getcwd()\n",
        "\n",
        "# print the current directory\n",
        "print(\"Current working directory is:\", Home)"
      ]
    },
    {
      "cell_type": "markdown",
      "metadata": {},
      "source": [
        "check train image"
      ]
    },
    {
      "cell_type": "code",
      "execution_count": null,
      "metadata": {},
      "outputs": [],
      "source": [
        "import os\n",
        "\n",
        "# Mengatur direktori\n",
        "directory = '/content/gdrive/MyDrive/Tugas_Besar_SEM/merged_dataset/train/images'  # Direktori default di Google Colab\n",
        "\n",
        "# Menghitung jumlah file dalam direktori\n",
        "file_count = sum([len(files) for _, _, files in os.walk(directory)])\n",
        "\n",
        "print(\"Jumlah file dalam direktori saat ini:\", file_count)"
      ]
    },
    {
      "cell_type": "markdown",
      "metadata": {},
      "source": [
        "check test image"
      ]
    },
    {
      "cell_type": "code",
      "execution_count": null,
      "metadata": {
        "colab": {
          "base_uri": "https://localhost:8080/"
        },
        "id": "OI7oqnEOLtfn",
        "outputId": "b5ccfc80-5f31-4936-da00-a3402d4c289e"
      },
      "outputs": [],
      "source": [
        "import os\n",
        "\n",
        "# Mengatur direktori\n",
        "directory = '/content/gdrive/MyDrive/Tugas_Besar_SEM/merged_dataset/merge_70_20_10/test/images'  # Direktori default di Google Colab\n",
        "\n",
        "# Menghitung jumlah file dalam direktori\n",
        "file_count = sum([len(files) for _, _, files in os.walk(directory)])\n",
        "\n",
        "print(\"Jumlah file dalam direktori saat ini:\", file_count)"
      ]
    },
    {
      "cell_type": "markdown",
      "metadata": {},
      "source": [
        "check valid image"
      ]
    },
    {
      "cell_type": "code",
      "execution_count": null,
      "metadata": {
        "colab": {
          "base_uri": "https://localhost:8080/"
        },
        "id": "Tz6KTPvn0a11",
        "outputId": "914b0e7e-d440-4e45-fa7f-8374914e2855"
      },
      "outputs": [],
      "source": [
        "import os\n",
        "\n",
        "# Mengatur direktori\n",
        "directory = '/content/gdrive/MyDrive/Tugas_Besar_SEM/merged_dataset/merge_70_20_10/valid/images'  # Direktori default di Google Colab\n",
        "\n",
        "# Menghitung jumlah file dalam direktori\n",
        "file_count = sum([len(files) for _, _, files in os.walk(directory)])\n",
        "\n",
        "print(\"Jumlah file dalam direktori saat ini:\", file_count)"
      ]
    },
    {
      "cell_type": "markdown",
      "metadata": {
        "id": "65k1QMPwjt63"
      },
      "source": [
        "#**Train the YOLOv11 Model on the Custom Dataset 70 20 10 (SCUT Head Part B, Casablanca, Hollywood Head, Overhead)**"
      ]
    },
    {
      "cell_type": "code",
      "execution_count": null,
      "metadata": {
        "colab": {
          "base_uri": "https://localhost:8080/"
        },
        "id": "LXQKTg3oswPy",
        "outputId": "9b2d7862-8122-4134-93f2-1d49320f242e"
      },
      "outputs": [],
      "source": [
        "!yolo task=detect mode=train model=/content/gdrive/MyDrive/Head_Detection/model/yolov11.yaml data=/content/gdrive/MyDrive/Head_Detection/partition/70_20_10/merge/data.yaml"
      ]
    },
    {
      "cell_type": "markdown",
      "metadata": {
        "id": "JYC6Xm7ZMaqu"
      },
      "source": []
    }
  ],
  "metadata": {
    "colab": {
      "collapsed_sections": [
        "lFEY4hkThYI3",
        "FdgrpCXehuFH",
        "d69BqnLhivMS",
        "YiBK9s1dRmfc"
      ],
      "machine_shape": "hm",
      "provenance": []
    },
    "kernelspec": {
      "display_name": "Python 3",
      "name": "python3"
    },
    "language_info": {
      "codemirror_mode": {
        "name": "ipython",
        "version": 3
      },
      "file_extension": ".py",
      "mimetype": "text/x-python",
      "name": "python",
      "nbconvert_exporter": "python",
      "pygments_lexer": "ipython3",
      "version": "3.11.4"
    }
  },
  "nbformat": 4,
  "nbformat_minor": 0
}
